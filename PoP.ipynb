{
 "cells": [
  {
   "cell_type": "code",
   "execution_count": 1,
   "metadata": {},
   "outputs": [],
   "source": [
    "import random\n",
    "import mcl\n",
    "mcl.mcl_init(mcl.CurveType.MCL_BLS12_381)\n",
    "\n",
    "r = mcl.Fr()\n",
    "h = mcl.Fr()"
   ]
  },
  {
   "cell_type": "markdown",
   "metadata": {},
   "source": [
    "## User"
   ]
  },
  {
   "cell_type": "code",
   "execution_count": 2,
   "metadata": {},
   "outputs": [],
   "source": [
    "r_A, h_A = [], []"
   ]
  },
  {
   "cell_type": "code",
   "execution_count": 3,
   "metadata": {},
   "outputs": [
    {
     "name": "stdout",
     "output_type": "stream",
     "text": [
      "Data: this is a file\n",
      "Cached hashes: 10\n"
     ]
    }
   ],
   "source": [
    "\n",
    "data = 'this is a file'\n",
    "n = 10\n",
    "print(f'Data: {data}')\n",
    "print(f'Cached hashes: {n}')"
   ]
  },
  {
   "cell_type": "code",
   "execution_count": 4,
   "metadata": {},
   "outputs": [],
   "source": [
    "for i in range(n):\n",
    "    r.set_by_CSPRNG()\n",
    "    r_A.append(r.getStr())\n",
    "    h = h.set_hash_of(f'{data}{r}')\n",
    "    h_A.append(h.getStr())"
   ]
  },
  {
   "cell_type": "code",
   "execution_count": 5,
   "metadata": {},
   "outputs": [
    {
     "name": "stdout",
     "output_type": "stream",
     "text": [
      "4956819845852352781283998725714878838520336108840879178358786779033572829256: 31943847467508742640280863674635966963767610732746301310505975994800756711151\n",
      "47470085896165732180394831456303140305527225840397285468604550040570885057714: 25261276547366338634549952033244695499834417829535480390045969859178420420368\n",
      "50006048823574819469937616056298041455029876475028793335691528635032794893298: 8032624168391765119508984752420707822709835051941990128016493153033512004321\n",
      "16289764309408308179857754613650329650590432729851897524619669909640942684122: 46784609034064519295256651892779178489102716361781204804015360502065904538150\n",
      "12966859557912375730208172756768925254481752310500423692026493289355598614269: 29447074259878269824167345941346622149994190315440768616388614816687408726618\n",
      "37603120197123041392062565412817024635777305085754064472845293659843917183920: 44871093725346952203039892427420216295384795802256246809615960181110582552478\n",
      "47291055805952552057577817772507530103989937444897420060244560147101895483025: 1741544941970280461759212186694266875682575940248556246746447639342995682086\n",
      "9145434366174702222121801244143765469287493129279636332062674114228946107704: 11508233303084508529637901118045888268890051751272967979408681018818987403925\n",
      "9919545394710441038401548706098040156957775878749181182826276568949916408326: 33584892042868476495070787409517795321746038775686901600181418266010535342907\n",
      "27529408472872853817411180235594412279972267790620242825013204048549272301731: 32709867247743773916384356538744286551111713254214909384064453906686630804874\n"
     ]
    }
   ],
   "source": [
    "for r, h in zip(r_A, h_A):\n",
    "    print(f'{r}: {h}')"
   ]
  },
  {
   "cell_type": "markdown",
   "metadata": {},
   "source": [
    "## Cloud"
   ]
  },
  {
   "cell_type": "code",
   "execution_count": 6,
   "metadata": {},
   "outputs": [],
   "source": [
    "cloud_data = data\n",
    "def request(challenge):\n",
    "    h = mcl.Fr()\n",
    "    return h.set_hash_of(f'{cloud_data}{challenge}').getStr()"
   ]
  },
  {
   "cell_type": "markdown",
   "metadata": {},
   "source": [
    "### Request random stored hash"
   ]
  },
  {
   "cell_type": "code",
   "execution_count": 7,
   "metadata": {},
   "outputs": [
    {
     "name": "stdout",
     "output_type": "stream",
     "text": [
      "16289764309408308179857754613650329650590432729851897524619669909640942684122: 46784609034064519295256651892779178489102716361781204804015360502065904538150\n",
      "got 46784609034064519295256651892779178489102716361781204804015360502065904538150\n",
      "Verified\n"
     ]
    }
   ],
   "source": [
    "c = random.randint(0, n - 1)\n",
    "r = r_A[c]\n",
    "h = h_A[c]\n",
    "print(f'{r}: {h}')\n",
    "\n",
    "cloud_response = request(r)\n",
    "print(f'got {cloud_response}')\n",
    "\n",
    "if cloud_response == h:\n",
    "    print('Verified')\n",
    "else:\n",
    "    print('Rejected')"
   ]
  },
  {
   "cell_type": "markdown",
   "metadata": {},
   "source": [
    "### Request new hash"
   ]
  },
  {
   "cell_type": "code",
   "execution_count": 8,
   "metadata": {},
   "outputs": [
    {
     "name": "stdout",
     "output_type": "stream",
     "text": [
      "stored <- 28318025684653503960761347408543383372815979880309259696252050653046484718033: 1834061637669058722362415949306340342749629408606077436522597206774758690769\n"
     ]
    }
   ],
   "source": [
    "r = mcl.Fr()\n",
    "r.set_by_CSPRNG()\n",
    "cloud_response = request(r)\n",
    "r_A.append(r)\n",
    "h_A.append(cloud_response)\n",
    "n = n + 1\n",
    "\n",
    "print(f'stored <- {r}: {cloud_response}')"
   ]
  }
 ],
 "metadata": {
  "kernelspec": {
   "display_name": "Python 3",
   "language": "python",
   "name": "python3"
  },
  "language_info": {
   "codemirror_mode": {
    "name": "ipython",
    "version": 3
   },
   "file_extension": ".py",
   "mimetype": "text/x-python",
   "name": "python",
   "nbconvert_exporter": "python",
   "pygments_lexer": "ipython3",
   "version": "3.8.10"
  }
 },
 "nbformat": 4,
 "nbformat_minor": 2
}
