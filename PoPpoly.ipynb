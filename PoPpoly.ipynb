{
 "cells": [
  {
   "cell_type": "markdown",
   "metadata": {},
   "source": [
    "## Setup"
   ]
  },
  {
   "cell_type": "code",
   "execution_count": null,
   "metadata": {},
   "outputs": [],
   "source": [
    "from functools import reduce\n",
    "\n",
    "import mcl\n",
    "mcl.mcl_init(mcl.CurveType.MCL_BLS12_381)\n",
    "\n",
    "Q = mcl.G1.BLS12_381_G1_generator()"
   ]
  },
  {
   "cell_type": "markdown",
   "metadata": {},
   "source": [
    "## User"
   ]
  },
  {
   "cell_type": "code",
   "execution_count": null,
   "metadata": {},
   "outputs": [],
   "source": [
    "password = 'cl0udc0mp'\n",
    "fid = 'my_file.txt'"
   ]
  },
  {
   "cell_type": "code",
   "execution_count": null,
   "metadata": {},
   "outputs": [],
   "source": [
    "# Create secret key based on password\n",
    "sk = mcl.Fr()\n",
    "sk = sk.set_hash_of(password)\n",
    "print('Sk:', sk)"
   ]
  },
  {
   "cell_type": "code",
   "execution_count": null,
   "metadata": {},
   "outputs": [],
   "source": [
    "# Encode file into chunks\n",
    "\n",
    "m_a_user = []\n",
    "with open(fid, \"rb\") as file:\n",
    "    while True:\n",
    "        data = file.read(31)\n",
    "        print(data)\n",
    "        if not data:\n",
    "            break\n",
    "        f = mcl.Fr()\n",
    "        f.setStr(str(int(data.hex(), base=16)))\n",
    "        m_a_user.append(f)"
   ]
  },
  {
   "cell_type": "code",
   "execution_count": null,
   "metadata": {},
   "outputs": [],
   "source": [
    "print('m_i encoded chunks:', *m_a_user, sep='\\n')"
   ]
  },
  {
   "cell_type": "code",
   "execution_count": null,
   "metadata": {},
   "outputs": [],
   "source": [
    "# Create polynomial L\n",
    "L_coef = [mcl.Fr().set_hash_of(f'{sk}{fid}{i}') for i in range(len(m_a_user))]\n",
    "polynomial_core = lambda c_a: lambda x: reduce(lambda acc, val: acc * x + val, c_a)\n",
    "assert(polynomial_core([1, 2, 3])(5) == 1 * 5 * 5 + 2 * 5 + 3)\n",
    "L = polynomial_core(L_coef)\n",
    "\n",
    "# print('L coefficients:', *L_coef, sep='\\n')"
   ]
  },
  {
   "cell_type": "code",
   "execution_count": null,
   "metadata": {},
   "outputs": [],
   "source": [
    "# Create tags for chunks\n",
    "t_a_user = [L(m) for m in m_a_user]\n",
    "print('Pairs (m_i, t_i):', *list(zip(m_a_user, t_a_user)), sep='\\n')"
   ]
  },
  {
   "cell_type": "markdown",
   "metadata": {},
   "source": [
    "## Cloud"
   ]
  },
  {
   "cell_type": "code",
   "execution_count": null,
   "metadata": {},
   "outputs": [],
   "source": [
    "m_a_cloud = list(m_a_user)\n",
    "t_a_cloud = list(t_a_user)"
   ]
  },
  {
   "cell_type": "markdown",
   "metadata": {},
   "source": [
    "## Challenge"
   ]
  },
  {
   "cell_type": "code",
   "execution_count": null,
   "metadata": {},
   "outputs": [],
   "source": [
    "# Generate random generator\n",
    "r = mcl.Fr()\n",
    "r.set_by_CSPRNG()\n",
    "Qr = mcl.G1()\n",
    "Qr = Q * r\n",
    "print('Qr:', Qr)"
   ]
  },
  {
   "cell_type": "code",
   "execution_count": null,
   "metadata": {},
   "outputs": [],
   "source": [
    "# Generate challenge\n",
    "x_c = mcl.Fr()\n",
    "while True:\n",
    "    x_c.set_by_CSPRNG()\n",
    "    if x_c not in m_a_user:\n",
    "        break\n",
    "print('x_c:', x_c)"
   ]
  },
  {
   "cell_type": "code",
   "execution_count": null,
   "metadata": {},
   "outputs": [],
   "source": [
    "# Calculate Qr ^ L(0)\n",
    "QrL0 = mcl.G1()\n",
    "QrL0 = Qr * L(mcl.Fr())\n",
    "print('QrL0:', QrL0)"
   ]
  },
  {
   "cell_type": "code",
   "execution_count": null,
   "metadata": {},
   "outputs": [],
   "source": [
    "# Calculate expected response R_u = Qr ^ L(x_c)\n",
    "R_u = Qr * L(x_c)\n",
    "print('R_u:', R_u)"
   ]
  },
  {
   "cell_type": "markdown",
   "metadata": {},
   "source": [
    "## Response"
   ]
  },
  {
   "cell_type": "code",
   "execution_count": null,
   "metadata": {},
   "outputs": [],
   "source": [
    "Qr_cloud = Qr\n",
    "x_c_cloud = x_c\n",
    "QrL0_cloud = QrL0"
   ]
  },
  {
   "cell_type": "code",
   "execution_count": null,
   "metadata": {},
   "outputs": [],
   "source": [
    "# Prepare interpolation set\n",
    "m_a_cloud_tmp = list(m_a_cloud)\n",
    "t_a_cloud_tmp = [Qr_cloud * t for t in t_a_cloud]\n",
    "m_a_cloud_tmp.append(mcl.Fr())\n",
    "t_a_cloud_tmp.append(QrL0)\n",
    "print('Pairs (m_i, t*_i):', *list(zip(m_a_cloud_tmp, t_a_cloud_tmp)), sep='\\n')"
   ]
  },
  {
   "cell_type": "code",
   "execution_count": null,
   "metadata": {},
   "outputs": [],
   "source": [
    "# Interpolate L with use of LI_EXP, calculate given response R_c = LI_EXP(x_c)\n",
    "\n",
    "# Get m_a_cloud_tmp array without an element on given index i\n",
    "filter_i = lambda a: lambda i: [val for ind, val in enumerate(a) if ind != i]\n",
    "assert(filter_i([1, 2, 3, 4])(2) == [1, 2, 4])\n",
    "\n",
    "LI_core = lambda x_a, i, s_0: lambda x: reduce(lambda acc, val: ((x - val) / (x_a[i] - val)) * acc, filter_i(x_a)(i), s_0)\n",
    "assert(LI_core([1, 2, 3], 1, 1)(5) == ((5 - 1) / (2 - 1)) * (5 - 3) / (2 - 3))\n",
    "\n",
    "LI_EXP = lambda x_a, y_a, s_0, s_1: lambda x: reduce(lambda acc, val: (val[1] * LI_core(x_a, val[0], s_0)(x)) + acc, enumerate(y_a), s_1)\n",
    "FR_ONE = mcl.Fr()\n",
    "FR_ONE.setInt(1)\n",
    "R_c = LI_EXP(m_a_cloud_tmp, t_a_cloud_tmp, FR_ONE, mcl.G1())(x_c)\n",
    "\n",
    "print('R_c:', R_c)"
   ]
  },
  {
   "cell_type": "markdown",
   "metadata": {},
   "source": [
    "## Verify"
   ]
  },
  {
   "cell_type": "code",
   "execution_count": null,
   "metadata": {},
   "outputs": [],
   "source": [
    "if R_u == R_c:\n",
    "    print('Verified')\n",
    "else:\n",
    "    print('Rejected')"
   ]
  },
  {
   "cell_type": "markdown",
   "metadata": {},
   "source": [
    "## Download"
   ]
  },
  {
   "cell_type": "code",
   "execution_count": null,
   "metadata": {},
   "outputs": [],
   "source": [
    "m_a_download = list(m_a_cloud)"
   ]
  },
  {
   "cell_type": "code",
   "execution_count": null,
   "metadata": {},
   "outputs": [],
   "source": [
    "# Decode downloaded blocks\n",
    "with open(\"dec_\" + fid, \"wb\") as file:\n",
    "    for m in m_a_download:\n",
    "        byte_data = int(m.getStr()).to_bytes(31, byteorder='big')\n",
    "        print(byte_data.replace(b'\\x00', b''))"
   ]
  }
 ],
 "metadata": {
  "kernelspec": {
   "display_name": "Python 3",
   "language": "python",
   "name": "python3"
  },
  "language_info": {
   "codemirror_mode": {
    "name": "ipython",
    "version": 3
   },
   "file_extension": ".py",
   "mimetype": "text/x-python",
   "name": "python",
   "nbconvert_exporter": "python",
   "pygments_lexer": "ipython3",
   "version": "3.8.10"
  }
 },
 "nbformat": 4,
 "nbformat_minor": 2
}
